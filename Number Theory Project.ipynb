{
 "cells": [
  {
   "cell_type": "markdown",
   "id": "a9264924",
   "metadata": {},
   "source": [
    "The Crunchy sequence starts with the numbers 1, 2, 3, and 4. Each successive number after 4 is the next number that is uniquely expressible as the product of two previous sequence terms. The next number after 1, 2, 3, 4 is 6 since 6=2 × 3 and there is no other way to write 6 as the product of two of the numbers 1, 2, 3, and 4. The next term after 1, 2, 3, 4, 6 is 8, since 8 = 2 × 4. Note that 12 is excluded since 12 = 3 × 4 and 12 = 2 × 6. The next two terms are 16 and 18. Find the next 50 terms of the Crunchy sequence. Note whether they are prime or composite."
   ]
  },
  {
   "cell_type": "code",
   "execution_count": 1,
   "id": "797dc54a",
   "metadata": {},
   "outputs": [],
   "source": [
    "def is_unique_product(num, sequence):\n",
    "    counter = 0\n",
    "    for i in range(len(sequence)-1):\n",
    "        for j in range(i+1, len(sequence)):\n",
    "            if sequence[i] * sequence[j] > num:\n",
    "                break  # Break out of the inner loop if the product exceeds num\n",
    "            if sequence[i] * sequence[j] == num:\n",
    "                counter = counter + 1\n",
    "\n",
    "    if counter == 1:\n",
    "        return True\n",
    "  \n",
    "    return False\n"
   ]
  },
  {
   "cell_type": "code",
   "execution_count": 2,
   "id": "1e7c6fed",
   "metadata": {},
   "outputs": [],
   "source": [
    "def generate_crunchy_sequence(n):\n",
    "    sequence = [1, 2, 3, 4]\n",
    "    num = 5\n",
    "    while len(sequence) < n:\n",
    "        if is_unique_product(num,sequence):\n",
    "            sequence.append(num)\n",
    "        num += 1\n",
    "    return sequence"
   ]
  },
  {
   "cell_type": "code",
   "execution_count": 5,
   "id": "57659abf",
   "metadata": {},
   "outputs": [],
   "source": [
    "crunchy_sequence = generate_crunchy_sequence(50)"
   ]
  },
  {
   "cell_type": "code",
   "execution_count": 6,
   "id": "044c5433",
   "metadata": {},
   "outputs": [
    {
     "name": "stdout",
     "output_type": "stream",
     "text": [
      "[1, 2, 3, 4, 6, 8, 16, 18, 36, 54, 64, 96, 162, 256, 432, 486, 1152, 1458, 2048, 3888, 4374, 5184, 8192, 12288, 13122, 13824, 18432, 34992, 39366, 46656, 65536, 98304, 118098, 124416, 262144, 314928, 354294, 419904, 589824, 1062882, 1119744, 2834352, 3145728, 3188646, 3779136, 3981312, 9565938, 10077696, 12582912, 18874368]\n"
     ]
    }
   ],
   "source": [
    "print(crunchy_sequence)"
   ]
  },
  {
   "cell_type": "code",
   "execution_count": 7,
   "id": "e870d8fd",
   "metadata": {},
   "outputs": [],
   "source": [
    "def classify_numbers(sequence):\n",
    "    classifications = []\n",
    "    for num in sequence:\n",
    "        n, m = 0, 0\n",
    "        temp = num\n",
    "        while temp % 2 == 0:\n",
    "            temp //= 2\n",
    "            n += 1\n",
    "        while temp % 3 == 0:\n",
    "            temp //= 3\n",
    "            m += 1\n",
    "        if temp == 1:\n",
    "            classifications.append((num, \"Prime\", n, m))\n",
    "        else:\n",
    "            classifications.append((num, \"Composite\", n, m))\n",
    "    return classifications"
   ]
  },
  {
   "cell_type": "code",
   "execution_count": 8,
   "id": "525b11fb",
   "metadata": {},
   "outputs": [],
   "source": [
    "classifications = classify_numbers(crunchy_sequence)"
   ]
  },
  {
   "cell_type": "code",
   "execution_count": 12,
   "id": "84309e57",
   "metadata": {
    "scrolled": true
   },
   "outputs": [
    {
     "name": "stdout",
     "output_type": "stream",
     "text": [
      "Crunchy Sequence:  [1, 2, 3, 4, 6, 8, 16, 18, 36, 54, 64, 96, 162, 256, 432, 486, 1152, 1458, 2048, 3888, 4374, 5184, 8192, 12288, 13122, 13824, 18432, 34992, 39366, 46656, 65536, 98304, 118098, 124416, 262144, 314928, 354294, 419904, 589824, 1062882, 1119744, 2834352, 3145728, 3188646, 3779136, 3981312, 9565938, 10077696, 12582912, 18874368]\n",
      "Classifications for the Crunchy Sequence:\n",
      "Number: 1, Classification: Prime, Form: (2^0)*(3^0)\n",
      "Number: 2, Classification: Prime, Form: (2^1)*(3^0)\n",
      "Number: 3, Classification: Prime, Form: (2^0)*(3^1)\n",
      "Number: 4, Classification: Prime, Form: (2^2)*(3^0)\n",
      "Number: 6, Classification: Prime, Form: (2^1)*(3^1)\n",
      "Number: 8, Classification: Prime, Form: (2^3)*(3^0)\n",
      "Number: 16, Classification: Prime, Form: (2^4)*(3^0)\n",
      "Number: 18, Classification: Prime, Form: (2^1)*(3^2)\n",
      "Number: 36, Classification: Prime, Form: (2^2)*(3^2)\n",
      "Number: 54, Classification: Prime, Form: (2^1)*(3^3)\n",
      "Number: 64, Classification: Prime, Form: (2^6)*(3^0)\n",
      "Number: 96, Classification: Prime, Form: (2^5)*(3^1)\n",
      "Number: 162, Classification: Prime, Form: (2^1)*(3^4)\n",
      "Number: 256, Classification: Prime, Form: (2^8)*(3^0)\n",
      "Number: 432, Classification: Prime, Form: (2^4)*(3^3)\n",
      "Number: 486, Classification: Prime, Form: (2^1)*(3^5)\n",
      "Number: 1152, Classification: Prime, Form: (2^7)*(3^2)\n",
      "Number: 1458, Classification: Prime, Form: (2^1)*(3^6)\n",
      "Number: 2048, Classification: Prime, Form: (2^11)*(3^0)\n",
      "Number: 3888, Classification: Prime, Form: (2^4)*(3^5)\n",
      "Number: 4374, Classification: Prime, Form: (2^1)*(3^7)\n",
      "Number: 5184, Classification: Prime, Form: (2^6)*(3^4)\n",
      "Number: 8192, Classification: Prime, Form: (2^13)*(3^0)\n",
      "Number: 12288, Classification: Prime, Form: (2^12)*(3^1)\n",
      "Number: 13122, Classification: Prime, Form: (2^1)*(3^8)\n",
      "Number: 13824, Classification: Prime, Form: (2^9)*(3^3)\n",
      "Number: 18432, Classification: Prime, Form: (2^11)*(3^2)\n",
      "Number: 34992, Classification: Prime, Form: (2^4)*(3^7)\n",
      "Number: 39366, Classification: Prime, Form: (2^1)*(3^9)\n",
      "Number: 46656, Classification: Prime, Form: (2^6)*(3^6)\n",
      "Number: 65536, Classification: Prime, Form: (2^16)*(3^0)\n",
      "Number: 98304, Classification: Prime, Form: (2^15)*(3^1)\n",
      "Number: 118098, Classification: Prime, Form: (2^1)*(3^10)\n",
      "Number: 124416, Classification: Prime, Form: (2^9)*(3^5)\n",
      "Number: 262144, Classification: Prime, Form: (2^18)*(3^0)\n",
      "Number: 314928, Classification: Prime, Form: (2^4)*(3^9)\n",
      "Number: 354294, Classification: Prime, Form: (2^1)*(3^11)\n",
      "Number: 419904, Classification: Prime, Form: (2^6)*(3^8)\n",
      "Number: 589824, Classification: Prime, Form: (2^16)*(3^2)\n",
      "Number: 1062882, Classification: Prime, Form: (2^1)*(3^12)\n",
      "Number: 1119744, Classification: Prime, Form: (2^9)*(3^7)\n",
      "Number: 2834352, Classification: Prime, Form: (2^4)*(3^11)\n",
      "Number: 3145728, Classification: Prime, Form: (2^20)*(3^1)\n",
      "Number: 3188646, Classification: Prime, Form: (2^1)*(3^13)\n",
      "Number: 3779136, Classification: Prime, Form: (2^6)*(3^10)\n",
      "Number: 3981312, Classification: Prime, Form: (2^14)*(3^5)\n",
      "Number: 9565938, Classification: Prime, Form: (2^1)*(3^14)\n",
      "Number: 10077696, Classification: Prime, Form: (2^9)*(3^9)\n",
      "Number: 12582912, Classification: Prime, Form: (2^22)*(3^1)\n",
      "Number: 18874368, Classification: Prime, Form: (2^21)*(3^2)\n"
     ]
    }
   ],
   "source": [
    "print(\"Crunchy Sequence: \" , crunchy_sequence)\n",
    "print(\"Classifications for the Crunchy Sequence:\")\n",
    "for num, classification, n, m in classifications:\n",
    "    print(f\"Number: {num}, Classification: {classification}, Form: (2^{n})*(3^{m})\")"
   ]
  },
  {
   "cell_type": "code",
   "execution_count": null,
   "id": "2702f01d",
   "metadata": {},
   "outputs": [],
   "source": []
  }
 ],
 "metadata": {
  "kernelspec": {
   "display_name": "Python 3 (ipykernel)",
   "language": "python",
   "name": "python3"
  },
  "language_info": {
   "codemirror_mode": {
    "name": "ipython",
    "version": 3
   },
   "file_extension": ".py",
   "mimetype": "text/x-python",
   "name": "python",
   "nbconvert_exporter": "python",
   "pygments_lexer": "ipython3",
   "version": "3.11.4"
  }
 },
 "nbformat": 4,
 "nbformat_minor": 5
}
